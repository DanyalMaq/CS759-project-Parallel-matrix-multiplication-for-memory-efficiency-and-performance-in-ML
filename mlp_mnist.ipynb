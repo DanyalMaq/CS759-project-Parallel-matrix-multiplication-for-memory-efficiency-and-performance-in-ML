{
 "cells": [
  {
   "cell_type": "code",
   "execution_count": 16,
   "metadata": {},
   "outputs": [
    {
     "name": "stderr",
     "output_type": "stream",
     "text": [
      "  0%|          | 0/10 [00:00<?, ?it/s]"
     ]
    },
    {
     "name": "stdout",
     "output_type": "stream",
     "text": [
      "Epoch 0: train acc: 0.0010937500046566129, train loss: 0.023133807182312012, eval acc: 0.12480221688747406, eval loss: 2.2896044616457782\n",
      "Epoch 0: train acc: 0.7679687738418579, train loss: 0.8164816942811012, eval acc: 0.8830102682113647, eval loss: 0.3744132918647573\n",
      "Epoch 0: train acc: 0.8978906273841858, train loss: 0.33041078358888626, eval acc: 0.9067444801330566, eval loss: 0.2938633547930778\n",
      "Epoch 0: train acc: 0.924609363079071, train loss: 0.2633488894253969, eval acc: 0.934335470199585, eval loss: 0.22176922697432433\n",
      "Epoch 0: train acc: 0.9344531297683716, train loss: 0.2194523583352566, eval acc: 0.9376977682113647, eval loss: 0.19800268471995486\n"
     ]
    },
    {
     "name": "stderr",
     "output_type": "stream",
     "text": [
      " 10%|█         | 1/10 [00:17<02:36, 17.43s/it]"
     ]
    },
    {
     "name": "stdout",
     "output_type": "stream",
     "text": [
      "Epoch 1: train acc: 0.009140624664723873, train loss: 0.0026094257831573487, eval acc: 0.9476858973503113, eval loss: 0.17335808729823632\n",
      "Epoch 1: train acc: 0.9498437643051147, train loss: 0.1726352559775114, eval acc: 0.9516416192054749, eval loss: 0.1560080115317921\n",
      "Epoch 1: train acc: 0.9547656178474426, train loss: 0.15803983636200428, eval acc: 0.9575751423835754, eval loss: 0.13968276142885414\n",
      "Epoch 1: train acc: 0.9541406035423279, train loss: 0.14909979697316886, eval acc: 0.9599485993385315, eval loss: 0.13456800778078126\n",
      "Epoch 1: train acc: 0.9606249928474426, train loss: 0.1312691617757082, eval acc: 0.9629153609275818, eval loss: 0.12041272510644756\n"
     ]
    },
    {
     "name": "stderr",
     "output_type": "stream",
     "text": [
      " 20%|██        | 2/10 [00:34<02:16, 17.06s/it]"
     ]
    },
    {
     "name": "stdout",
     "output_type": "stream",
     "text": [
      "Epoch 2: train acc: 0.009687500074505806, train loss: 0.0010434401035308838, eval acc: 0.9624208807945251, eval loss: 0.11770394779270209\n",
      "Epoch 2: train acc: 0.9690625071525574, train loss: 0.1095591752231121, eval acc: 0.965585470199585, eval loss: 0.11295794030722184\n",
      "Epoch 2: train acc: 0.9684374928474426, train loss: 0.10447842994704842, eval acc: 0.968156635761261, eval loss: 0.10091136004539984\n",
      "Epoch 2: train acc: 0.9696093797683716, train loss: 0.10024900089949369, eval acc: 0.9679588675498962, eval loss: 0.10323356535238555\n",
      "Epoch 2: train acc: 0.9735937714576721, train loss: 0.08900752695277334, eval acc: 0.9711233973503113, eval loss: 0.09280011813521763\n"
     ]
    },
    {
     "name": "stderr",
     "output_type": "stream",
     "text": [
      " 30%|███       | 3/10 [00:50<01:57, 16.86s/it]"
     ]
    },
    {
     "name": "stdout",
     "output_type": "stream",
     "text": [
      "Epoch 3: train acc: 0.009843749925494194, train loss: 0.00033551327884197236, eval acc: 0.970530092716217, eval loss: 0.09129477308803721\n",
      "Epoch 3: train acc: 0.9781249761581421, train loss: 0.07360215123742819, eval acc: 0.9714201092720032, eval loss: 0.0893281562772544\n",
      "Epoch 3: train acc: 0.9783594012260437, train loss: 0.07638222517445684, eval acc: 0.9732001423835754, eval loss: 0.08386152166920373\n",
      "Epoch 3: train acc: 0.9775000214576721, train loss: 0.07783071626909077, eval acc: 0.9734968543052673, eval loss: 0.0818927831994959\n",
      "Epoch 3: train acc: 0.9778125286102295, train loss: 0.07336723348125815, eval acc: 0.9748813509941101, eval loss: 0.0800139919583556\n"
     ]
    },
    {
     "name": "stderr",
     "output_type": "stream",
     "text": [
      " 40%|████      | 4/10 [01:07<01:40, 16.72s/it]"
     ]
    },
    {
     "name": "stdout",
     "output_type": "stream",
     "text": [
      "Epoch 4: train acc: 0.009843749925494194, train loss: 0.000767785981297493, eval acc: 0.9751780033111572, eval loss: 0.07558449819872651\n",
      "Epoch 4: train acc: 0.985546886920929, train loss: 0.05273984972387552, eval acc: 0.9757713675498962, eval loss: 0.0756629487806106\n",
      "Epoch 4: train acc: 0.9872656464576721, train loss: 0.047638762630522254, eval acc: 0.9769580960273743, eval loss: 0.07259726532899975\n",
      "Epoch 4: train acc: 0.9862499833106995, train loss: 0.04978282698430121, eval acc: 0.977155864238739, eval loss: 0.07351518735949751\n",
      "Epoch 4: train acc: 0.9861719012260437, train loss: 0.05130794600583613, eval acc: 0.977155864238739, eval loss: 0.07163156507701814\n"
     ]
    },
    {
     "name": "stderr",
     "output_type": "stream",
     "text": [
      " 50%|█████     | 5/10 [01:24<01:23, 16.73s/it]"
     ]
    },
    {
     "name": "stdout",
     "output_type": "stream",
     "text": [
      "Epoch 5: train acc: 0.009999999776482582, train loss: 0.00029629159718751907, eval acc: 0.9780458807945251, eval loss: 0.07078435880285275\n",
      "Epoch 5: train acc: 0.9881250262260437, train loss: 0.04700637098401785, eval acc: 0.9773536324501038, eval loss: 0.07166017134544216\n",
      "Epoch 5: train acc: 0.9878125190734863, train loss: 0.04699056256562471, eval acc: 0.977749228477478, eval loss: 0.07034215670597704\n",
      "Epoch 5: train acc: 0.9862499833106995, train loss: 0.05018775161355734, eval acc: 0.9775514006614685, eval loss: 0.0711555746649215\n",
      "Epoch 5: train acc: 0.9877343773841858, train loss: 0.04695337207987905, eval acc: 0.9776503443717957, eval loss: 0.07049027455475511\n"
     ]
    },
    {
     "name": "stderr",
     "output_type": "stream",
     "text": [
      " 60%|██████    | 6/10 [01:41<01:07, 16.99s/it]"
     ]
    },
    {
     "name": "stdout",
     "output_type": "stream",
     "text": [
      "Epoch 6: train acc: 0.009921874850988388, train loss: 0.0005395156145095825, eval acc: 0.9780458807945251, eval loss: 0.0710607511050339\n",
      "Epoch 6: train acc: 0.987109363079071, train loss: 0.04560087102930993, eval acc: 0.9780458807945251, eval loss: 0.07058649712914153\n",
      "Epoch 6: train acc: 0.9884374737739563, train loss: 0.04700321012176573, eval acc: 0.9780458807945251, eval loss: 0.06993568411592065\n",
      "Epoch 6: train acc: 0.9864062666893005, train loss: 0.05009493986144662, eval acc: 0.977749228477478, eval loss: 0.06944180554651384\n",
      "Epoch 6: train acc: 0.9889062643051147, train loss: 0.04195830235723406, eval acc: 0.9780458807945251, eval loss: 0.0696859419982456\n"
     ]
    },
    {
     "name": "stderr",
     "output_type": "stream",
     "text": [
      " 70%|███████   | 7/10 [01:58<00:50, 16.87s/it]"
     ]
    },
    {
     "name": "stdout",
     "output_type": "stream",
     "text": [
      "Epoch 7: train acc: 0.009999999776482582, train loss: 0.00023722447454929351, eval acc: 0.977749228477478, eval loss: 0.06988710895935192\n",
      "Epoch 7: train acc: 0.9900000095367432, train loss: 0.03971543093211949, eval acc: 0.9781447649002075, eval loss: 0.07020035251692126\n",
      "Epoch 7: train acc: 0.9883593916893005, train loss: 0.044605986243113876, eval acc: 0.9780458807945251, eval loss: 0.06956512378410826\n",
      "Epoch 7: train acc: 0.9903905987739563, train loss: 0.04045677992515266, eval acc: 0.9773536324501038, eval loss: 0.07364676179529368\n",
      "Epoch 7: train acc: 0.9868749976158142, train loss: 0.0492591520678252, eval acc: 0.9770569801330566, eval loss: 0.07213467821667466\n"
     ]
    },
    {
     "name": "stderr",
     "output_type": "stream",
     "text": [
      " 80%|████████  | 8/10 [02:15<00:33, 16.88s/it]"
     ]
    },
    {
     "name": "stdout",
     "output_type": "stream",
     "text": [
      "Epoch 8: train acc: 0.009921874850988388, train loss: 0.0004186992347240448, eval acc: 0.9784414768218994, eval loss: 0.06945385421107558\n",
      "Epoch 8: train acc: 0.9878125190734863, train loss: 0.046494239810854196, eval acc: 0.978342592716217, eval loss: 0.0695319443092316\n",
      "Epoch 8: train acc: 0.9884374737739563, train loss: 0.042786774151027204, eval acc: 0.9781447649002075, eval loss: 0.06943445870228394\n",
      "Epoch 8: train acc: 0.9891406297683716, train loss: 0.04184523501433432, eval acc: 0.9782436490058899, eval loss: 0.06955708134212071\n",
      "Epoch 8: train acc: 0.9884374737739563, train loss: 0.043266087006777525, eval acc: 0.9769580960273743, eval loss: 0.07128854925873913\n"
     ]
    },
    {
     "name": "stderr",
     "output_type": "stream",
     "text": [
      " 90%|█████████ | 9/10 [02:32<00:16, 16.90s/it]"
     ]
    },
    {
     "name": "stdout",
     "output_type": "stream",
     "text": [
      "Epoch 9: train acc: 0.009921874850988388, train loss: 0.00022818226367235183, eval acc: 0.9784414768218994, eval loss: 0.06999730705460415\n",
      "Epoch 9: train acc: 0.9885937571525574, train loss: 0.044662206079810855, eval acc: 0.9782436490058899, eval loss: 0.06939372750547348\n",
      "Epoch 9: train acc: 0.9897656440734863, train loss: 0.044999213563278316, eval acc: 0.9785403609275818, eval loss: 0.06980168135671676\n",
      "Epoch 9: train acc: 0.9882031083106995, train loss: 0.04265894245356321, eval acc: 0.9784414768218994, eval loss: 0.06950056836999292\n",
      "Epoch 9: train acc: 0.9880468845367432, train loss: 0.04303899850696325, eval acc: 0.977749228477478, eval loss: 0.07096755187486924\n"
     ]
    },
    {
     "name": "stderr",
     "output_type": "stream",
     "text": [
      "100%|██████████| 10/10 [03:55<00:00, 23.52s/it]\n"
     ]
    }
   ],
   "source": [
    "# train a 3 layer MLP on mnist\n",
    "import torch\n",
    "import torch.nn as nn\n",
    "import torchvision \n",
    "from torchvision import transforms\n",
    "import os\n",
    "import numpy as np \n",
    "import tqdm\n",
    "\n",
    "model = nn.Sequential(\n",
    "    nn.Linear(784, 150, bias=False),\n",
    "    nn.ReLU(),\n",
    "    nn.Linear(150, 200, bias=False),\n",
    "    nn.ReLU(),\n",
    "    nn.Linear(200, 10, bias=False),\n",
    ")\n",
    "\n",
    "train_set = torchvision.datasets.MNIST(\n",
    "    root='./data',\n",
    "    train=True,\n",
    "    download=True,\n",
    "    transform=transforms.Compose([\n",
    "        transforms.RandomRotation(10),\n",
    "        transforms.ToTensor(),\n",
    "        transforms.Normalize((0.1307,), (0.3081,)),\n",
    "        torch.flatten\n",
    "    ])\n",
    ")\n",
    "test_set = torchvision.datasets.MNIST(\n",
    "    root='./data',\n",
    "    train=False,\n",
    "    download=True,\n",
    "    transform=transforms.Compose([\n",
    "        transforms.\n",
    "        transforms.ToTensor(),\n",
    "        transforms.Normalize((0.1307,), (0.3081,)),\n",
    "        torch.flatten\n",
    "    ])\n",
    ")\n",
    "\n",
    "train_loader = torch.utils.data.DataLoader(\n",
    "    dataset=train_set,\n",
    "    batch_size=128,\n",
    "    shuffle=True\n",
    ")\n",
    "test_loader = torch.utils.data.DataLoader(\n",
    "    dataset=test_set,\n",
    "    batch_size=128,\n",
    "    shuffle=True\n",
    ")\n",
    "\n",
    "loss_fn = nn.CrossEntropyLoss()\n",
    "optim = torch.optim.SGD(model.parameters(), lr=0.1)\n",
    "scheduler = torch.optim.lr_scheduler.ReduceLROnPlateau(\n",
    "    optim,\n",
    "    mode='max',\n",
    "    factor=0.1,\n",
    "    patience=2,\n",
    "    min_lr = 1e-4\n",
    ")\n",
    "\n",
    "\n",
    "epochs = 12\n",
    "eval_every = 100 # batches \n",
    "\n",
    "best_model = None\n",
    "\n",
    "with torch.autocast(\"cuda\"):\n",
    "    for epoch in tqdm.tqdm(range(epochs)):\n",
    "        \n",
    "        train_loss = 0\n",
    "        eval_loss = 0\n",
    "        train_acc = 0\n",
    "        eval_acc = 0\n",
    "        best_acc = 0\n",
    "        \n",
    "        # train\n",
    "        for i, (x, y) in enumerate(train_loader):\n",
    "            y_pred = model(x)\n",
    "            loss = loss_fn(y_pred, y)\n",
    "            optim.zero_grad()\n",
    "            loss.backward()\n",
    "            optim.step()\n",
    "            \n",
    "            acc = (y_pred.argmax(dim=1) == y).float().mean()\n",
    "            train_acc += acc \n",
    "            train_loss += loss.item()\n",
    "            \n",
    "            # eval\n",
    "            if i % eval_every == 0:\n",
    "                for x, y in test_loader:\n",
    "                    model.eval()\n",
    "                    y_pred = model(x)\n",
    "                    loss = loss_fn(y_pred, y)\n",
    "                    \n",
    "                    eval_loss += loss.item()\n",
    "                    acc = (y_pred.argmax(dim=1) == y).float().mean()\n",
    "                    eval_acc += acc    \n",
    "                    \n",
    "                print(f\"Epoch {epoch}: train acc: {train_acc / eval_every}, train loss: {train_loss / eval_every} \\\n",
    "                        , eval acc: {eval_acc / len(test_loader)}, eval loss: {eval_loss / len(test_loader)}\\\n",
    "                        lr: {optim.param_groups[0]['lr']}\"\n",
    "                    )\n",
    "                \n",
    "                if eval_acc / len(test_loader) > best_acc:\n",
    "                    best_acc = eval_acc / len(test_loader)\n",
    "                    best_model = model.state_dict()\n",
    "                    \n",
    "                train_loss = 0\n",
    "                eval_loss = 0\n",
    "                train_acc = 0\n",
    "                eval_acc = 0\n",
    "        \n",
    "        scheduler.step(eval_acc / len(test_loader))"
   ]
  },
  {
   "cell_type": "code",
   "execution_count": 28,
   "metadata": {},
   "outputs": [
    {
     "data": {
      "text/plain": [
       "(784, 150)"
      ]
     },
     "execution_count": 28,
     "metadata": {},
     "output_type": "execute_result"
    }
   ],
   "source": [
    "# save the first 5000 images in the test set as numpy array\n",
    "test_images = []\n",
    "test_labels = []\n",
    "for i, (x, y) in enumerate(test_loader):\n",
    "    test_images.append(x)\n",
    "    test_labels.append(y)\n",
    "    if i == 5000:\n",
    "        break\n",
    "test_images = torch.cat(test_images).numpy()\n",
    "test_labels = torch.cat(test_labels).numpy()\n",
    "np.save(\"./data/test_images.npy\", test_images)\n",
    "np.save(\"./data/test_labels.npy\", test_labels)\n",
    "\n",
    "# save model weights as numpy array\n",
    "for name, param in best_model.items():\n",
    "    np.save(f\"./data/linear_{name}.npy\", param.T.detach().cpu().numpy()) # W @ X -> X @ W.T\n",
    "    \n",
    "np.load(\"./data/linear_0.weight.npy\").shape\n"
   ]
  }
 ],
 "metadata": {
  "kernelspec": {
   "display_name": "pytorch3d",
   "language": "python",
   "name": "python3"
  },
  "language_info": {
   "codemirror_mode": {
    "name": "ipython",
    "version": 3
   },
   "file_extension": ".py",
   "mimetype": "text/x-python",
   "name": "python",
   "nbconvert_exporter": "python",
   "pygments_lexer": "ipython3",
   "version": "3.9.17"
  }
 },
 "nbformat": 4,
 "nbformat_minor": 2
}
