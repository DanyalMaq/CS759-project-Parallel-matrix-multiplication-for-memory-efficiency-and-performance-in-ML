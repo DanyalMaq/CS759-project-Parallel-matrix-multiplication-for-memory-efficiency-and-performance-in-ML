{
 "cells": [
  {
   "cell_type": "code",
   "execution_count": 1,
   "metadata": {},
   "outputs": [],
   "source": [
    "import os\n",
    "# os.environ[\"CUDA_VISIBLE_DEVICES\"] = \"5\"\n",
    "import torch\n",
    "import torch.nn as nn\n",
    "import torchvision \n",
    "from torchvision import transforms\n",
    "import numpy as np \n",
    "import tqdm"
   ]
  },
  {
   "cell_type": "code",
   "execution_count": 3,
   "metadata": {},
   "outputs": [
    {
     "name": "stdout",
     "output_type": "stream",
     "text": [
      "Using torch 2.0 compile\n"
     ]
    },
    {
     "name": "stderr",
     "output_type": "stream",
     "text": [
      "  0%|          | 0/12 [00:00<?, ?it/s]"
     ]
    },
    {
     "name": "stdout",
     "output_type": "stream",
     "text": [
      "Epoch 0: train acc: 0.0009374999790452421, train loss: 0.023020157814025877, eval acc: 0.13587816059589386, eval loss: 2.2883858409108995, lr: 0.1\n",
      "Epoch 0: train acc: 0.8125, train loss: 0.610088667422533, eval acc: 0.9277096390724182, eval loss: 0.23557359234818928, lr: 0.1\n",
      "Epoch 0: train acc: 0.9270312786102295, train loss: 0.24177031613886357, eval acc: 0.9427412748336792, eval loss: 0.18410793008117737, lr: 0.1\n",
      "Epoch 0: train acc: 0.9390624761581421, train loss: 0.20490242075175047, eval acc: 0.9498615264892578, eval loss: 0.15951774462680274, lr: 0.1\n",
      "Epoch 0: train acc: 0.9419531226158142, train loss: 0.1893035962432623, eval acc: 0.9521360993385315, eval loss: 0.157280340413504, lr: 0.1\n"
     ]
    },
    {
     "name": "stderr",
     "output_type": "stream",
     "text": [
      "  8%|▊         | 1/12 [00:21<03:56, 21.46s/it]"
     ]
    },
    {
     "name": "stdout",
     "output_type": "stream",
     "text": [
      "Epoch 1: train acc: 0.009687500074505806, train loss: 0.0009697346389293671, eval acc: 0.9570807218551636, eval loss: 0.13866330181024497, lr: 0.1\n",
      "Epoch 1: train acc: 0.9591405987739563, train loss: 0.13834078039973974, eval acc: 0.9606408476829529, eval loss: 0.12890377475679676, lr: 0.1\n",
      "Epoch 1: train acc: 0.9521874785423279, train loss: 0.1521232938952744, eval acc: 0.9642998576164246, eval loss: 0.12586349305472797, lr: 0.1\n",
      "Epoch 1: train acc: 0.9555468559265137, train loss: 0.14240980783477425, eval acc: 0.9588607549667358, eval loss: 0.13827000522125465, lr: 0.1\n",
      "Epoch 1: train acc: 0.9619531035423279, train loss: 0.12675292495638132, eval acc: 0.9672666192054749, eval loss: 0.11402801503250494, lr: 0.1\n"
     ]
    },
    {
     "name": "stderr",
     "output_type": "stream",
     "text": [
      " 17%|█▋        | 2/12 [00:43<03:36, 21.63s/it]"
     ]
    },
    {
     "name": "stdout",
     "output_type": "stream",
     "text": [
      "Epoch 2: train acc: 0.009062499739229679, train loss: 0.0018261298537254333, eval acc: 0.9676621556282043, eval loss: 0.11078253968418399, lr: 0.1\n",
      "Epoch 2: train acc: 0.9681249856948853, train loss: 0.10654620604589582, eval acc: 0.9671677350997925, eval loss: 0.11460428218109699, lr: 0.1\n",
      "Epoch 2: train acc: 0.9635937213897705, train loss: 0.11885077698156238, eval acc: 0.9690466523170471, eval loss: 0.11316778362268888, lr: 0.1\n",
      "Epoch 2: train acc: 0.965624988079071, train loss: 0.11094953145831823, eval acc: 0.9691455960273743, eval loss: 0.10688534883570068, lr: 0.1\n",
      "Epoch 2: train acc: 0.9684374928474426, train loss: 0.10919686485081911, eval acc: 0.9713212251663208, eval loss: 0.09527894179042004, lr: 0.1\n"
     ]
    },
    {
     "name": "stderr",
     "output_type": "stream",
     "text": [
      " 25%|██▌       | 3/12 [01:04<03:14, 21.58s/it]"
     ]
    },
    {
     "name": "stdout",
     "output_type": "stream",
     "text": [
      "Epoch 3: train acc: 0.009609375149011612, train loss: 0.001873568296432495, eval acc: 0.9698378443717957, eval loss: 0.10139738287352308, lr: 0.1\n",
      "Epoch 3: train acc: 0.9689843654632568, train loss: 0.09640532900579274, eval acc: 0.9672666192054749, eval loss: 0.10881779979490026, lr: 0.1\n",
      "Epoch 3: train acc: 0.9735937714576721, train loss: 0.09307361700572074, eval acc: 0.9708267450332642, eval loss: 0.0960476752134818, lr: 0.1\n",
      "Epoch 3: train acc: 0.969921886920929, train loss: 0.09772212279029191, eval acc: 0.9711233973503113, eval loss: 0.09525389632186558, lr: 0.1\n",
      "Epoch 3: train acc: 0.9697656035423279, train loss: 0.09760922577232123, eval acc: 0.9744857549667358, eval loss: 0.08542495347188102, lr: 0.1\n"
     ]
    },
    {
     "name": "stderr",
     "output_type": "stream",
     "text": [
      " 33%|███▎      | 4/12 [01:26<02:52, 21.51s/it]"
     ]
    },
    {
     "name": "stdout",
     "output_type": "stream",
     "text": [
      "Epoch 4: train acc: 0.009921874850988388, train loss: 0.00022985322400927543, eval acc: 0.9732001423835754, eval loss: 0.08694166765560078, lr: 0.010000000000000002\n",
      "Epoch 4: train acc: 0.9803906083106995, train loss: 0.06124153076671064, eval acc: 0.9801226258277893, eval loss: 0.0633531309711405, lr: 0.010000000000000002\n",
      "Epoch 4: train acc: 0.9840624928474426, train loss: 0.05311148347333074, eval acc: 0.980617105960846, eval loss: 0.061296733992197844, lr: 0.010000000000000002\n",
      "Epoch 4: train acc: 0.9854687452316284, train loss: 0.04415240168105811, eval acc: 0.9829905033111572, eval loss: 0.05599070841422941, lr: 0.010000000000000002\n",
      "Epoch 4: train acc: 0.9853906035423279, train loss: 0.04459624802693725, eval acc: 0.9828916192054749, eval loss: 0.055379907317648205, lr: 0.010000000000000002\n"
     ]
    },
    {
     "name": "stderr",
     "output_type": "stream",
     "text": [
      " 42%|████▏     | 5/12 [01:47<02:29, 21.38s/it]"
     ]
    },
    {
     "name": "stdout",
     "output_type": "stream",
     "text": [
      "Epoch 5: train acc: 0.009843749925494194, train loss: 0.00032492294907569884, eval acc: 0.9829905033111572, eval loss: 0.05499761088388748, lr: 0.010000000000000002\n",
      "Epoch 5: train acc: 0.9888281226158142, train loss: 0.03701133350841701, eval acc: 0.982594907283783, eval loss: 0.05569509451595854, lr: 0.010000000000000002\n",
      "Epoch 5: train acc: 0.9872656464576721, train loss: 0.04014173424337059, eval acc: 0.9832871556282043, eval loss: 0.05308365862510061, lr: 0.010000000000000002\n",
      "Epoch 5: train acc: 0.9887499809265137, train loss: 0.0371159563260153, eval acc: 0.9840783476829529, eval loss: 0.0526392324518153, lr: 0.010000000000000002\n",
      "Epoch 5: train acc: 0.9871875047683716, train loss: 0.04034820873523131, eval acc: 0.983188271522522, eval loss: 0.05281196342106272, lr: 0.010000000000000002\n"
     ]
    },
    {
     "name": "stderr",
     "output_type": "stream",
     "text": [
      " 50%|█████     | 6/12 [02:09<02:09, 21.50s/it]"
     ]
    },
    {
     "name": "stdout",
     "output_type": "stream",
     "text": [
      "Epoch 6: train acc: 0.009999999776482582, train loss: 8.807899430394173e-05, eval acc: 0.9834849834442139, eval loss: 0.05319766499119799, lr: 0.010000000000000002\n",
      "Epoch 6: train acc: 0.9898437261581421, train loss: 0.034437640514224765, eval acc: 0.9827927350997925, eval loss: 0.05439295138739332, lr: 0.010000000000000002\n",
      "Epoch 6: train acc: 0.9901562333106995, train loss: 0.03161859963787719, eval acc: 0.9833860993385315, eval loss: 0.05349271798423857, lr: 0.010000000000000002\n",
      "Epoch 6: train acc: 0.9889843463897705, train loss: 0.03407466796925292, eval acc: 0.9826938509941101, eval loss: 0.053520268660600154, lr: 0.010000000000000002\n",
      "Epoch 6: train acc: 0.9886718988418579, train loss: 0.03505327807040885, eval acc: 0.9821004867553711, eval loss: 0.056134261974852676, lr: 0.010000000000000002\n"
     ]
    },
    {
     "name": "stderr",
     "output_type": "stream",
     "text": [
      " 58%|█████▊    | 7/12 [02:30<01:47, 21.52s/it]"
     ]
    },
    {
     "name": "stdout",
     "output_type": "stream",
     "text": [
      "Epoch 7: train acc: 0.009843749925494194, train loss: 0.00033349640667438505, eval acc: 0.9835838675498962, eval loss: 0.0542416813683142, lr: 0.0010000000000000002\n",
      "Epoch 7: train acc: 0.9918749928474426, train loss: 0.028499848588835447, eval acc: 0.9836827516555786, eval loss: 0.05434502239185798, lr: 0.0010000000000000002\n",
      "Epoch 7: train acc: 0.9897656440734863, train loss: 0.03486225467408076, eval acc: 0.9836827516555786, eval loss: 0.05361362839341635, lr: 0.0010000000000000002\n",
      "Epoch 7: train acc: 0.9903905987739563, train loss: 0.030746293964330106, eval acc: 0.9835838675498962, eval loss: 0.053360715956438945, lr: 0.0010000000000000002\n",
      "Epoch 7: train acc: 0.9903125166893005, train loss: 0.030708893092814833, eval acc: 0.983188271522522, eval loss: 0.053406424661273065, lr: 0.0010000000000000002\n"
     ]
    },
    {
     "name": "stderr",
     "output_type": "stream",
     "text": [
      " 67%|██████▋   | 8/12 [02:52<01:26, 21.60s/it]"
     ]
    },
    {
     "name": "stdout",
     "output_type": "stream",
     "text": [
      "Epoch 8: train acc: 0.009921874850988388, train loss: 0.00010471918620169162, eval acc: 0.982594907283783, eval loss: 0.05380655919743961, lr: 0.0010000000000000002\n",
      "Epoch 8: train acc: 0.991015613079071, train loss: 0.028535872872453183, eval acc: 0.9836827516555786, eval loss: 0.05291455404617812, lr: 0.0010000000000000002\n",
      "Epoch 8: train acc: 0.9908593893051147, train loss: 0.02714365129126236, eval acc: 0.9838805198669434, eval loss: 0.05299098169596135, lr: 0.0010000000000000002\n",
      "Epoch 8: train acc: 0.9903905987739563, train loss: 0.030029519682284445, eval acc: 0.9829905033111572, eval loss: 0.057351874570727726, lr: 0.0010000000000000002\n",
      "Epoch 8: train acc: 0.9909374713897705, train loss: 0.029188879309222104, eval acc: 0.9834849834442139, eval loss: 0.05279186218932766, lr: 0.0010000000000000002\n"
     ]
    },
    {
     "name": "stderr",
     "output_type": "stream",
     "text": [
      " 75%|███████▌  | 9/12 [03:14<01:04, 21.66s/it]"
     ]
    },
    {
     "name": "stdout",
     "output_type": "stream",
     "text": [
      "Epoch 9: train acc: 0.009921874850988388, train loss: 0.00017538832500576973, eval acc: 0.9834849834442139, eval loss: 0.052853408558412064, lr: 0.0010000000000000002\n",
      "Epoch 9: train acc: 0.9888281226158142, train loss: 0.03286971835885197, eval acc: 0.9835838675498962, eval loss: 0.05260746173053697, lr: 0.0010000000000000002\n",
      "Epoch 9: train acc: 0.9917187690734863, train loss: 0.02558575275936164, eval acc: 0.9836827516555786, eval loss: 0.05254153088827491, lr: 0.0010000000000000002\n",
      "Epoch 9: train acc: 0.9921875, train loss: 0.024617901316378265, eval acc: 0.9836827516555786, eval loss: 0.05257258074626303, lr: 0.0010000000000000002\n",
      "Epoch 9: train acc: 0.991406261920929, train loss: 0.02776756959967315, eval acc: 0.983781635761261, eval loss: 0.05265917575953505, lr: 0.0010000000000000002\n"
     ]
    },
    {
     "name": "stderr",
     "output_type": "stream",
     "text": [
      " 83%|████████▎ | 10/12 [03:35<00:43, 21.70s/it]"
     ]
    },
    {
     "name": "stdout",
     "output_type": "stream",
     "text": [
      "Epoch 10: train acc: 0.009921874850988388, train loss: 0.00013857657089829444, eval acc: 0.9838805198669434, eval loss: 0.05268703555523217, lr: 0.00010000000000000003\n",
      "Epoch 10: train acc: 0.9900000095367432, train loss: 0.030712137279333546, eval acc: 0.9838805198669434, eval loss: 0.05258933916323983, lr: 0.00010000000000000003\n",
      "Epoch 10: train acc: 0.9921875, train loss: 0.024480454471195116, eval acc: 0.9824960231781006, eval loss: 0.05475099367101358, lr: 0.00010000000000000003\n",
      "Epoch 10: train acc: 0.9904687404632568, train loss: 0.030018166974186897, eval acc: 0.9838805198669434, eval loss: 0.053807159809136314, lr: 0.00010000000000000003\n",
      "Epoch 10: train acc: 0.9918749928474426, train loss: 0.026334327224176377, eval acc: 0.983188271522522, eval loss: 0.05370580112632317, lr: 0.00010000000000000003\n"
     ]
    },
    {
     "name": "stderr",
     "output_type": "stream",
     "text": [
      " 92%|█████████▏| 11/12 [03:57<00:21, 21.75s/it]"
     ]
    },
    {
     "name": "stdout",
     "output_type": "stream",
     "text": [
      "Epoch 11: train acc: 0.009921874850988388, train loss: 0.0003418070077896118, eval acc: 0.9838805198669434, eval loss: 0.05285081607466446, lr: 0.00010000000000000003\n",
      "Epoch 11: train acc: 0.9900781512260437, train loss: 0.028908225242048502, eval acc: 0.9838805198669434, eval loss: 0.05257432444958323, lr: 0.00010000000000000003\n",
      "Epoch 11: train acc: 0.990234375, train loss: 0.029238635851070286, eval acc: 0.9839794039726257, eval loss: 0.05254003660505802, lr: 0.00010000000000000003\n",
      "Epoch 11: train acc: 0.9910937547683716, train loss: 0.029836320751346648, eval acc: 0.9832871556282043, eval loss: 0.0546753067417141, lr: 0.00010000000000000003\n",
      "Epoch 11: train acc: 0.9914844036102295, train loss: 0.026752150703687222, eval acc: 0.9819027185440063, eval loss: 0.055864433333560636, lr: 0.00010000000000000003\n"
     ]
    },
    {
     "name": "stderr",
     "output_type": "stream",
     "text": [
      "100%|██████████| 12/12 [04:19<00:00, 21.60s/it]\n"
     ]
    }
   ],
   "source": [
    "# train a 3 layer MLP on mnist\n",
    "model = nn.Sequential(\n",
    "    nn.Linear(784, 150, bias=False),\n",
    "    nn.ReLU(),\n",
    "    nn.Linear(150, 200, bias=False),\n",
    "    nn.ReLU(),\n",
    "    nn.Linear(200, 10, bias=False),\n",
    ")\n",
    "\n",
    "if torch.__version__.startswith(\"2\"):\n",
    "    print(\"Using torch 2.0 compile\")\n",
    "    torch.compile(model)\n",
    "    \n",
    "train_set = torchvision.datasets.MNIST(\n",
    "    root='./data',\n",
    "    train=True,\n",
    "    download=True,\n",
    "    transform=transforms.Compose([\n",
    "        transforms.RandomRotation(10),\n",
    "        transforms.ToTensor(),\n",
    "        transforms.Normalize((0.1307,), (0.3081,)),\n",
    "        torch.flatten\n",
    "    ])\n",
    ")\n",
    "test_set = torchvision.datasets.MNIST(\n",
    "    root='./data',\n",
    "    train=False,\n",
    "    download=True,\n",
    "    transform=transforms.Compose([\n",
    "        transforms.\n",
    "        transforms.ToTensor(),\n",
    "        transforms.Normalize((0.1307,), (0.3081,)),\n",
    "        torch.flatten\n",
    "    ])\n",
    ")\n",
    "\n",
    "train_loader = torch.utils.data.DataLoader(\n",
    "    dataset=train_set,\n",
    "    batch_size=128,\n",
    "    shuffle=True\n",
    ")\n",
    "test_loader = torch.utils.data.DataLoader(\n",
    "    dataset=test_set,\n",
    "    batch_size=128,\n",
    "    shuffle=True\n",
    ")\n",
    "\n",
    "loss_fn = nn.CrossEntropyLoss()\n",
    "optim = torch.optim.SGD(model.parameters(), lr=0.1, momentum=0.9, weight_decay=1e-4)\n",
    "scheduler = torch.optim.lr_scheduler.ReduceLROnPlateau(\n",
    "    optim,\n",
    "    mode='max',\n",
    "    factor=0.1,\n",
    "    patience=2,\n",
    "    min_lr = 1e-4\n",
    ")\n",
    "\n",
    "\n",
    "epochs = 12\n",
    "eval_every = 100 # batches \n",
    "\n",
    "best_model = None\n",
    "\n",
    "with torch.autocast(\"cuda\"):\n",
    "    for epoch in tqdm.tqdm(range(epochs)):\n",
    "        \n",
    "        train_loss = 0\n",
    "        eval_loss = 0\n",
    "        train_acc = 0\n",
    "        eval_acc = 0\n",
    "        best_acc = 0\n",
    "        \n",
    "        # train\n",
    "        for i, (x, y) in enumerate(train_loader):\n",
    "            y_pred = model(x)\n",
    "            loss = loss_fn(y_pred, y)\n",
    "            optim.zero_grad()\n",
    "            loss.backward()\n",
    "            optim.step()\n",
    "            \n",
    "            acc = (y_pred.argmax(dim=1) == y).float().mean()\n",
    "            train_acc += acc \n",
    "            train_loss += loss.item()\n",
    "            \n",
    "            # eval\n",
    "            if i % eval_every == 0:\n",
    "                for x, y in test_loader:\n",
    "                    model.eval()\n",
    "                    y_pred = model(x)\n",
    "                    loss = loss_fn(y_pred, y)\n",
    "                    \n",
    "                    eval_loss += loss.item()\n",
    "                    acc = (y_pred.argmax(dim=1) == y).float().mean()\n",
    "                    eval_acc += acc    \n",
    "                    \n",
    "                print(f\"Epoch {epoch}: train acc: {train_acc / eval_every}, train loss: {train_loss / eval_every},\"\n",
    "                    f\" eval acc: {eval_acc / len(test_loader)}, eval loss: {eval_loss / len(test_loader)},\"\n",
    "                    f\" lr: {optim.param_groups[0]['lr']}\")\n",
    "\n",
    "                \n",
    "                if eval_acc / len(test_loader) > best_acc:\n",
    "                    best_acc = eval_acc / len(test_loader)\n",
    "                    best_model = model.state_dict()\n",
    "                    \n",
    "                train_loss = 0\n",
    "                eval_loss = 0\n",
    "                train_acc = 0\n",
    "                eval_acc = 0\n",
    "        \n",
    "        scheduler.step(eval_acc / len(test_loader))"
   ]
  },
  {
   "cell_type": "code",
   "execution_count": 8,
   "metadata": {},
   "outputs": [],
   "source": [
    "# save the first 5000 images in the test set as numpy array\n",
    "test_images = []\n",
    "test_labels = []\n",
    "for i, (x, y) in enumerate(test_loader):\n",
    "    test_images.append(x)\n",
    "    test_labels.append(y)\n",
    "\n",
    "test_images = torch.cat(test_images).numpy()\n",
    "test_labels = torch.cat(test_labels).numpy()\n",
    "np.save(\"./data/test_images.npy\", test_images)\n",
    "np.save(\"./data/test_labels.npy\", test_labels)\n",
    "\n",
    "# save model weights as numpy array\n",
    "for idx, (name, param) in enumerate(best_model.items()):\n",
    "    name = name.split(\".\")\n",
    "    name[0] = str(idx)\n",
    "    name = \".\".join(name)\n",
    "    np.save(f\"./data/linear_{name}.npy\", param.detach().cpu().T.numpy()) # W @ X -> X @ W.T, cnpy reads in column-major order\n",
    "    \n"
   ]
  },
  {
   "cell_type": "code",
   "execution_count": 10,
   "metadata": {},
   "outputs": [
    {
     "name": "stdout",
     "output_type": "stream",
     "text": [
      "shape: (784, 150) , float32 , first 3 values (cupy):  [-0.01497371 -0.0039914   0.01799681]\n"
     ]
    }
   ],
   "source": [
    "param = np.load(\"./data/linear_0.weight.npy\")\n",
    "print(\"shape:\", param.shape, \",\", param.dtype, \", first 3 values (cupy): \", param[:3, 0])"
   ]
  }
 ],
 "metadata": {
  "kernelspec": {
   "display_name": "Python 3 (ipykernel)",
   "language": "python",
   "name": "python3"
  },
  "language_info": {
   "codemirror_mode": {
    "name": "ipython",
    "version": 3
   },
   "file_extension": ".py",
   "mimetype": "text/x-python",
   "name": "python",
   "nbconvert_exporter": "python",
   "pygments_lexer": "ipython3",
   "version": "3.9.17"
  }
 },
 "nbformat": 4,
 "nbformat_minor": 2
}
